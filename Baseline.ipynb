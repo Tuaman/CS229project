{
 "cells": [
  {
   "cell_type": "code",
   "execution_count": 11,
   "metadata": {},
   "outputs": [],
   "source": [
    "import numpy as np\n",
    "import matplotlib.pyplot as plt\n",
    "import pandas as pd\n",
    "from pandas_datareader import data as web\n"
   ]
  },
  {
   "cell_type": "code",
   "execution_count": 210,
   "metadata": {},
   "outputs": [],
   "source": [
    "#read data\n",
    "amzn = pd.read_csv('./data/amzn.us.csv')\n",
    "grpn = pd.read_csv('./data/grpn.us.csv')\n",
    "ibm = pd.read_csv('./data/ibm.us.csv')\n",
    "tsla = pd.read_csv('./data/tsla.us.csv')"
   ]
  },
  {
   "cell_type": "code",
   "execution_count": 263,
   "metadata": {},
   "outputs": [],
   "source": [
    "for stock in [grpn, amzn, ibm, tsla]:\n",
    "    stock['EMA_12'] = stock['Close'].ewm(span=12,min_periods=0,adjust=True,ignore_na=False).mean()\n",
    "    stock['EMA_26'] = stock['Close'].ewm(span=26,min_periods=0,adjust=True,ignore_na=False).mean()\n",
    "    stock['MACD'] = stock['EMA_12'] - stock['EMA_26']\n",
    "    stock['signal'] = stock['MACD'].ewm(span=9,min_periods=0,adjust=True,ignore_na=False).mean()\n",
    "    stock['SMA'] = stock['Close'].rolling(30).mean()"
   ]
  },
  {
   "cell_type": "code",
   "execution_count": 212,
   "metadata": {},
   "outputs": [
    {
     "data": {
      "text/plain": [
       "[<matplotlib.lines.Line2D at 0x1086d60f0>]"
      ]
     },
     "execution_count": 212,
     "metadata": {},
     "output_type": "execute_result"
    },
    {
     "data": {
      "image/png": "[encoded data removed]",
      "text/plain": [
       "<Figure size 432x288 with 1 Axes>"
      ]
     },
     "metadata": {
      "needs_background": "light"
     },
     "output_type": "display_data"
    }
   ],
   "source": [
    "plt.figure()\n",
    "plt.plot(amzn['MACD'])\n",
    "plt.plot(amzn['signal'])"
   ]
  },
  {
   "cell_type": "code",
   "execution_count": 264,
   "metadata": {},
   "outputs": [
    {
     "name": "stdout",
     "output_type": "stream",
     "text": [
      "Money before: 10000.0\n",
      "Money after MACD: 16646.886\n"
     ]
    }
   ],
   "source": [
    "def buy_all(stock_name , stock, asset, i):\n",
    "    #convert money into stock\n",
    "    price = stock['Close'][i]\n",
    "    num_stock = np.floor(asset['Money']/price)\n",
    "    asset['Money'] -= num_stock * price\n",
    "    asset[stock_name] += num_stock\n",
    "    \n",
    "def sell_all(stock_name , stock, asset,i ):\n",
    "    #convert money into stock\n",
    "    price = stock['Close'][i]\n",
    "    num_stock = asset[stock_name]\n",
    "    asset['Money'] += num_stock * price\n",
    "    asset[stock_name] = 0\n",
    "\n",
    "\n",
    "stock = tsla\n",
    "name = 'tsla'\n",
    "asset = {}\n",
    "\n",
    "asset['Money'] = 10000.0\n",
    "asset[name] = 0\n",
    "print('Money before:', asset['Money'])\n",
    "\n",
    "for i in range(len(stock['MACD']) - 601 ,len(stock['MACD'])):\n",
    "    if i == len(stock['MACD']) - 1:\n",
    "        sell_all(name, stock, asset, i)\n",
    "        break\n",
    "    if stock['signal'][i-1] <= stock['MACD'][i-1]  and stock['signal'][i] >= stock['MACD'][i]:\n",
    "#         print('sell at', stock['Close'][i], 'amount: ', asset[name])\n",
    "#         print('MACD - signal= ', stock['MACD'][i] - stock['signal'][i])        \n",
    "        sell_all(name, stock, asset, i)\n",
    "        \n",
    "    if stock['signal'][i-1] >= stock['MACD'][i-1] and stock['signal'][i] <= stock['MACD'][i]:\n",
    "        buy_all(name, stock, asset, i)\n",
    "#         print('buy at', stock['Close'][i], 'amount: ', asset[name])\n",
    "#         print('MACD - signal= ', stock['MACD'][i] - stock['signal'][i])\n",
    "        \n",
    "        \n",
    "print('Money after MACD:', asset['Money'])"
   ]
  },
  {
   "cell_type": "code",
   "execution_count": 227,
   "metadata": {},
   "outputs": [
    {
     "name": "stdout",
     "output_type": "stream",
     "text": [
      "Money before: 10000\n",
      "Money after: 10346.68\n"
     ]
    }
   ],
   "source": [
    "asset = {}\n",
    "name = 'grpn'\n",
    "stock = grpn\n",
    "asset['Money'] = 10000\n",
    "asset[name] = 0\n",
    "\n",
    "print('Money before:', asset['Money'])\n",
    "\n",
    "buy_all(name, stock, asset, len(stock['Close']) - 601)\n",
    "sell_all(name, stock, asset, len(stock['Close']) - 1)\n",
    "\n",
    "print('Money after:', asset['Money'])"
   ]
  },
  {
   "cell_type": "code",
   "execution_count": null,
   "metadata": {},
   "outputs": [],
   "source": []
  },
  {
   "cell_type": "code",
   "execution_count": 201,
   "metadata": {},
   "outputs": [
    {
     "ename": "SyntaxError",
     "evalue": "invalid syntax (<ipython-input-201-0626a4103a83>, line 8)",
     "output_type": "error",
     "traceback": [
      "\u001b[0;36m  File \u001b[0;32m\"<ipython-input-201-0626a4103a83>\"\u001b[0;36m, line \u001b[0;32m8\u001b[0m\n\u001b[0;31m    name = 'amzn'?\u001b[0m\n\u001b[0m                 ^\u001b[0m\n\u001b[0;31mSyntaxError\u001b[0m\u001b[0;31m:\u001b[0m invalid syntax\n"
     ]
    }
   ],
   "source": [
    "asset = {}\n",
    "asset['Money'] = 10000.0\n",
    "asset['amzn'] = 0\n",
    "asset['grpn'] = 0\n",
    "\n",
    "print('Money before:', asset['Money'])\n",
    "stock = \n",
    "name = 'amzn'\n",
    "\n",
    "for i in range(1,len(stock['SMA'])):\n",
    "    if i == len(stock['SMA']) - 1:\n",
    "        sell_all(name, stock, asset, i)\n",
    "        break\n",
    "    if stock['SMA'][i-1] >= stock['Close'][i-1] and stock['SMA'][i] <= stock['Close'][i]:\n",
    "        sell_all(name, stock, asset, i)\n",
    "     \n",
    "    if stock['SMA'][i-1] <= stock['Close'][i-1] and stock['SMA'][i] >= stock['Close'][i]:\n",
    "        buy_all(name, stock, asset, i)\n",
    "        \n",
    "        \n",
    "print('Money after SMA:', asset['Money'])"
   ]
  }
 ],
 "metadata": {
  "kernelspec": {
   "display_name": "Python 3",
   "language": "python",
   "name": "python3"
  },
  "language_info": {
   "codemirror_mode": {
    "name": "ipython",
    "version": 3
   },
   "file_extension": ".py",
   "mimetype": "text/x-python",
   "name": "python",
   "nbconvert_exporter": "python",
   "pygments_lexer": "ipython3",
   "version": "3.6.1"
  }
 },
 "nbformat": 4,
 "nbformat_minor": 2
}
